{
  "nbformat": 4,
  "nbformat_minor": 0,
  "metadata": {
    "colab": {
      "name": "kinetics.ipynb",
      "provenance": [],
      "include_colab_link": true
    },
    "kernelspec": {
      "name": "python3",
      "display_name": "Python 3"
    }
  },
  "cells": [
    {
      "cell_type": "markdown",
      "metadata": {
        "id": "view-in-github",
        "colab_type": "text"
      },
      "source": [
        "<a href=\"https://colab.research.google.com/github/MALLI7622/Computer-Vision/blob/master/kinetics.ipynb\" target=\"_parent\"><img src=\"https://colab.research.google.com/assets/colab-badge.svg\" alt=\"Open In Colab\"/></a>"
      ]
    },
    {
      "cell_type": "code",
      "metadata": {
        "id": "S6atXJQRcwJ8",
        "colab_type": "code",
        "outputId": "84592526-9e60-4f76-d2fc-83bbd6745ecf",
        "colab": {
          "base_uri": "https://localhost:8080/",
          "height": 208
        }
      },
      "source": [
        "!wget https://storage.googleapis.com/deepmind-media/Datasets/kinetics700.tar.gz"
      ],
      "execution_count": 1,
      "outputs": [
        {
          "output_type": "stream",
          "text": [
            "--2020-01-11 09:42:59--  https://storage.googleapis.com/deepmind-media/Datasets/kinetics700.tar.gz\n",
            "Resolving storage.googleapis.com (storage.googleapis.com)... 108.177.126.128, 2a00:1450:4013:c02::80\n",
            "Connecting to storage.googleapis.com (storage.googleapis.com)|108.177.126.128|:443... connected.\n",
            "HTTP request sent, awaiting response... 200 OK\n",
            "Length: 25274518 (24M) [application/octet-stream]\n",
            "Saving to: ‘kinetics700.tar.gz’\n",
            "\n",
            "kinetics700.tar.gz  100%[===================>]  24.10M  29.0MB/s    in 0.8s    \n",
            "\n",
            "2020-01-11 09:43:02 (29.0 MB/s) - ‘kinetics700.tar.gz’ saved [25274518/25274518]\n",
            "\n"
          ],
          "name": "stdout"
        }
      ]
    },
    {
      "cell_type": "code",
      "metadata": {
        "id": "QArjGRKVc31H",
        "colab_type": "code",
        "colab": {}
      },
      "source": [
        "import tarfile\n",
        "fname = \"kinetics700.tar.gz\"\n",
        "tar = tarfile.open(fname, \"r:gz\")\n",
        "tar.extractall()\n",
        "tar.close()"
      ],
      "execution_count": 0,
      "outputs": []
    },
    {
      "cell_type": "code",
      "metadata": {
        "id": "K7AlYXZhc3qx",
        "colab_type": "code",
        "outputId": "b484bb8b-2ada-4ed7-f867-56d6b981328f",
        "colab": {
          "base_uri": "https://localhost:8080/",
          "height": 1000
        }
      },
      "source": [
        "dir(tar)"
      ],
      "execution_count": 3,
      "outputs": [
        {
          "output_type": "execute_result",
          "data": {
            "text/plain": [
              "['OPEN_METH',\n",
              " '__class__',\n",
              " '__delattr__',\n",
              " '__dict__',\n",
              " '__dir__',\n",
              " '__doc__',\n",
              " '__enter__',\n",
              " '__eq__',\n",
              " '__exit__',\n",
              " '__format__',\n",
              " '__ge__',\n",
              " '__getattribute__',\n",
              " '__gt__',\n",
              " '__hash__',\n",
              " '__init__',\n",
              " '__init_subclass__',\n",
              " '__iter__',\n",
              " '__le__',\n",
              " '__lt__',\n",
              " '__module__',\n",
              " '__ne__',\n",
              " '__new__',\n",
              " '__reduce__',\n",
              " '__reduce_ex__',\n",
              " '__repr__',\n",
              " '__setattr__',\n",
              " '__sizeof__',\n",
              " '__str__',\n",
              " '__subclasshook__',\n",
              " '__weakref__',\n",
              " '_check',\n",
              " '_dbg',\n",
              " '_extfileobj',\n",
              " '_extract_member',\n",
              " '_find_link_target',\n",
              " '_getmember',\n",
              " '_load',\n",
              " '_loaded',\n",
              " '_mode',\n",
              " 'add',\n",
              " 'addfile',\n",
              " 'bz2open',\n",
              " 'chmod',\n",
              " 'chown',\n",
              " 'close',\n",
              " 'closed',\n",
              " 'copybufsize',\n",
              " 'debug',\n",
              " 'dereference',\n",
              " 'encoding',\n",
              " 'errorlevel',\n",
              " 'errors',\n",
              " 'extract',\n",
              " 'extractall',\n",
              " 'extractfile',\n",
              " 'fileobj',\n",
              " 'fileobject',\n",
              " 'firstmember',\n",
              " 'format',\n",
              " 'getmember',\n",
              " 'getmembers',\n",
              " 'getnames',\n",
              " 'gettarinfo',\n",
              " 'gzopen',\n",
              " 'ignore_zeros',\n",
              " 'inodes',\n",
              " 'list',\n",
              " 'makedev',\n",
              " 'makedir',\n",
              " 'makefifo',\n",
              " 'makefile',\n",
              " 'makelink',\n",
              " 'makeunknown',\n",
              " 'members',\n",
              " 'mode',\n",
              " 'name',\n",
              " 'next',\n",
              " 'offset',\n",
              " 'open',\n",
              " 'pax_headers',\n",
              " 'tarinfo',\n",
              " 'taropen',\n",
              " 'utime',\n",
              " 'xzopen']"
            ]
          },
          "metadata": {
            "tags": []
          },
          "execution_count": 3
        }
      ]
    },
    {
      "cell_type": "code",
      "metadata": {
        "id": "Qt58SufNc3iN",
        "colab_type": "code",
        "outputId": "ca47ce16-b5ba-4f26-e003-06da093fc770",
        "colab": {
          "base_uri": "https://localhost:8080/",
          "height": 322
        }
      },
      "source": [
        "from tarfiel import getmembers\n",
        "getmembers(tar)"
      ],
      "execution_count": 0,
      "outputs": [
        {
          "output_type": "error",
          "ename": "ModuleNotFoundError",
          "evalue": "ignored",
          "traceback": [
            "\u001b[0;31m---------------------------------------------------------------------------\u001b[0m",
            "\u001b[0;31mModuleNotFoundError\u001b[0m                       Traceback (most recent call last)",
            "\u001b[0;32m<ipython-input-15-9ad6d0b75b76>\u001b[0m in \u001b[0;36m<module>\u001b[0;34m()\u001b[0m\n\u001b[0;32m----> 1\u001b[0;31m \u001b[0;32mfrom\u001b[0m \u001b[0mtarfiel\u001b[0m \u001b[0;32mimport\u001b[0m \u001b[0mgetmembers\u001b[0m\u001b[0;34m\u001b[0m\u001b[0;34m\u001b[0m\u001b[0m\n\u001b[0m\u001b[1;32m      2\u001b[0m \u001b[0mgetmembers\u001b[0m\u001b[0;34m(\u001b[0m\u001b[0mtar\u001b[0m\u001b[0;34m)\u001b[0m\u001b[0;34m\u001b[0m\u001b[0;34m\u001b[0m\u001b[0m\n",
            "\u001b[0;31mModuleNotFoundError\u001b[0m: No module named 'tarfiel'",
            "",
            "\u001b[0;31m---------------------------------------------------------------------------\u001b[0;32m\nNOTE: If your import is failing due to a missing package, you can\nmanually install dependencies using either !pip or !apt.\n\nTo view examples of installing some common dependencies, click the\n\"Open Examples\" button below.\n\u001b[0;31m---------------------------------------------------------------------------\u001b[0m\n"
          ]
        }
      ]
    },
    {
      "cell_type": "code",
      "metadata": {
        "id": "m8HmTRwMc3YL",
        "colab_type": "code",
        "colab": {}
      },
      "source": [
        "csvfile = open('kinetics700/train.csv')"
      ],
      "execution_count": 0,
      "outputs": []
    },
    {
      "cell_type": "code",
      "metadata": {
        "id": "rhF_Po8Ac3Q9",
        "colab_type": "code",
        "colab": {
          "base_uri": "https://localhost:8080/",
          "height": 277
        },
        "outputId": "48034559-e381-4f59-a024-c0f6740ec620"
      },
      "source": [
        "import pandas as pd\n",
        "\n",
        "train_pandas_csv = pd.read_csv(csvfile)\n",
        "\n",
        "print(\" Training data:\", train_pandas_csv) \n",
        "print(\"Trained Data Length:\", len(train_pandas_csv))"
      ],
      "execution_count": 11,
      "outputs": [
        {
          "output_type": "stream",
          "text": [
            " Training data:                         label   youtube_id  time_start  time_end  split\n",
            "0         clay pottery making  ---0dWlqevI          19        29  train\n",
            "1              news anchoring  ---aQ-tA5_A           9        19  train\n",
            "2       using bagging machine  ---j12rm3WI          14        24  train\n",
            "3               javelin throw  --07WQ2iBlw           1        11  train\n",
            "4             climbing a rope  --0NTAs-fA0          29        39  train\n",
            "...                       ...          ...         ...       ...    ...\n",
            "540195         washing dishes  zzz_3yWpTXo           0        10  train\n",
            "540196          juggling fire  zzzkS3amkWE         124       134  train\n",
            "540197           taking photo  zzzsd1R7H0E           6        16  train\n",
            "540198         brush painting  zzzxltuPx2Q          84        94  train\n",
            "540199           changing oil  zzzzE0ncP1Y         232       242  train\n",
            "\n",
            "[540200 rows x 5 columns]\n",
            "Trained Data Length: 540200\n"
          ],
          "name": "stdout"
        }
      ]
    },
    {
      "cell_type": "code",
      "metadata": {
        "id": "vl9dPH1Wc3Ic",
        "colab_type": "code",
        "outputId": "20fba065-528b-497c-ce51-200b03389dc7",
        "colab": {
          "base_uri": "https://localhost:8080/",
          "height": 415
        }
      },
      "source": [
        "pandas_csv"
      ],
      "execution_count": 6,
      "outputs": [
        {
          "output_type": "execute_result",
          "data": {
            "text/html": [
              "<div>\n",
              "<style scoped>\n",
              "    .dataframe tbody tr th:only-of-type {\n",
              "        vertical-align: middle;\n",
              "    }\n",
              "\n",
              "    .dataframe tbody tr th {\n",
              "        vertical-align: top;\n",
              "    }\n",
              "\n",
              "    .dataframe thead th {\n",
              "        text-align: right;\n",
              "    }\n",
              "</style>\n",
              "<table border=\"1\" class=\"dataframe\">\n",
              "  <thead>\n",
              "    <tr style=\"text-align: right;\">\n",
              "      <th></th>\n",
              "      <th>label</th>\n",
              "      <th>youtube_id</th>\n",
              "      <th>time_start</th>\n",
              "      <th>time_end</th>\n",
              "      <th>split</th>\n",
              "    </tr>\n",
              "  </thead>\n",
              "  <tbody>\n",
              "    <tr>\n",
              "      <th>0</th>\n",
              "      <td>clay pottery making</td>\n",
              "      <td>---0dWlqevI</td>\n",
              "      <td>19</td>\n",
              "      <td>29</td>\n",
              "      <td>train</td>\n",
              "    </tr>\n",
              "    <tr>\n",
              "      <th>1</th>\n",
              "      <td>news anchoring</td>\n",
              "      <td>---aQ-tA5_A</td>\n",
              "      <td>9</td>\n",
              "      <td>19</td>\n",
              "      <td>train</td>\n",
              "    </tr>\n",
              "    <tr>\n",
              "      <th>2</th>\n",
              "      <td>using bagging machine</td>\n",
              "      <td>---j12rm3WI</td>\n",
              "      <td>14</td>\n",
              "      <td>24</td>\n",
              "      <td>train</td>\n",
              "    </tr>\n",
              "    <tr>\n",
              "      <th>3</th>\n",
              "      <td>javelin throw</td>\n",
              "      <td>--07WQ2iBlw</td>\n",
              "      <td>1</td>\n",
              "      <td>11</td>\n",
              "      <td>train</td>\n",
              "    </tr>\n",
              "    <tr>\n",
              "      <th>4</th>\n",
              "      <td>climbing a rope</td>\n",
              "      <td>--0NTAs-fA0</td>\n",
              "      <td>29</td>\n",
              "      <td>39</td>\n",
              "      <td>train</td>\n",
              "    </tr>\n",
              "    <tr>\n",
              "      <th>...</th>\n",
              "      <td>...</td>\n",
              "      <td>...</td>\n",
              "      <td>...</td>\n",
              "      <td>...</td>\n",
              "      <td>...</td>\n",
              "    </tr>\n",
              "    <tr>\n",
              "      <th>540195</th>\n",
              "      <td>washing dishes</td>\n",
              "      <td>zzz_3yWpTXo</td>\n",
              "      <td>0</td>\n",
              "      <td>10</td>\n",
              "      <td>train</td>\n",
              "    </tr>\n",
              "    <tr>\n",
              "      <th>540196</th>\n",
              "      <td>juggling fire</td>\n",
              "      <td>zzzkS3amkWE</td>\n",
              "      <td>124</td>\n",
              "      <td>134</td>\n",
              "      <td>train</td>\n",
              "    </tr>\n",
              "    <tr>\n",
              "      <th>540197</th>\n",
              "      <td>taking photo</td>\n",
              "      <td>zzzsd1R7H0E</td>\n",
              "      <td>6</td>\n",
              "      <td>16</td>\n",
              "      <td>train</td>\n",
              "    </tr>\n",
              "    <tr>\n",
              "      <th>540198</th>\n",
              "      <td>brush painting</td>\n",
              "      <td>zzzxltuPx2Q</td>\n",
              "      <td>84</td>\n",
              "      <td>94</td>\n",
              "      <td>train</td>\n",
              "    </tr>\n",
              "    <tr>\n",
              "      <th>540199</th>\n",
              "      <td>changing oil</td>\n",
              "      <td>zzzzE0ncP1Y</td>\n",
              "      <td>232</td>\n",
              "      <td>242</td>\n",
              "      <td>train</td>\n",
              "    </tr>\n",
              "  </tbody>\n",
              "</table>\n",
              "<p>540200 rows × 5 columns</p>\n",
              "</div>"
            ],
            "text/plain": [
              "                        label   youtube_id  time_start  time_end  split\n",
              "0         clay pottery making  ---0dWlqevI          19        29  train\n",
              "1              news anchoring  ---aQ-tA5_A           9        19  train\n",
              "2       using bagging machine  ---j12rm3WI          14        24  train\n",
              "3               javelin throw  --07WQ2iBlw           1        11  train\n",
              "4             climbing a rope  --0NTAs-fA0          29        39  train\n",
              "...                       ...          ...         ...       ...    ...\n",
              "540195         washing dishes  zzz_3yWpTXo           0        10  train\n",
              "540196          juggling fire  zzzkS3amkWE         124       134  train\n",
              "540197           taking photo  zzzsd1R7H0E           6        16  train\n",
              "540198         brush painting  zzzxltuPx2Q          84        94  train\n",
              "540199           changing oil  zzzzE0ncP1Y         232       242  train\n",
              "\n",
              "[540200 rows x 5 columns]"
            ]
          },
          "metadata": {
            "tags": []
          },
          "execution_count": 6
        }
      ]
    },
    {
      "cell_type": "code",
      "metadata": {
        "id": "_x6GUyalc2_r",
        "colab_type": "code",
        "colab": {
          "base_uri": "https://localhost:8080/",
          "height": 277
        },
        "outputId": "611350d5-7fbf-4424-e304-2a2917a8396a"
      },
      "source": [
        "test_csvfile = open('kinetics700/test.csv')\n",
        "\n",
        "import pandas as pd\n",
        "\n",
        "test_pandas_csv = pd.read_csv(test_csvfile)\n",
        "\n",
        "print(\" Training data:\", test_pandas_csv) \n",
        "print(\"Trained Data Length:\", len(test_pandas_csv))"
      ],
      "execution_count": 13,
      "outputs": [
        {
          "output_type": "stream",
          "text": [
            " Training data:         youtube_id  time_start  time_end split\n",
            "0      ---v8pgm1eQ           0        10  test\n",
            "1      --0kKuQu4Gs           0        10  test\n",
            "2      --1f2DTKcwg         111       121  test\n",
            "3      --2V_kDPfDg         192       202  test\n",
            "4      --3X_T3dnAE         370       380  test\n",
            "...            ...         ...       ...   ...\n",
            "69096  zuudYOLSgf4           6        16  test\n",
            "69097  zv8oIf_OKxM         169       179  test\n",
            "69098  zvInmNgphQU          27        37  test\n",
            "69099  zvwkhXw_BqM           8        18  test\n",
            "69100  zwvRnRgzi6g          33        43  test\n",
            "\n",
            "[69101 rows x 4 columns]\n",
            "Trained Data Length: 69101\n"
          ],
          "name": "stdout"
        }
      ]
    },
    {
      "cell_type": "code",
      "metadata": {
        "id": "aTyAAuQDc23P",
        "colab_type": "code",
        "colab": {}
      },
      "source": [
        ""
      ],
      "execution_count": 0,
      "outputs": []
    },
    {
      "cell_type": "code",
      "metadata": {
        "id": "aGrYwxlWc2sz",
        "colab_type": "code",
        "colab": {}
      },
      "source": [
        ""
      ],
      "execution_count": 0,
      "outputs": []
    },
    {
      "cell_type": "code",
      "metadata": {
        "id": "unLnkxz6c2h7",
        "colab_type": "code",
        "colab": {}
      },
      "source": [
        ""
      ],
      "execution_count": 0,
      "outputs": []
    },
    {
      "cell_type": "code",
      "metadata": {
        "id": "x7oQWl2Ic2Zs",
        "colab_type": "code",
        "colab": {}
      },
      "source": [
        ""
      ],
      "execution_count": 0,
      "outputs": []
    },
    {
      "cell_type": "code",
      "metadata": {
        "id": "l17-lDxKc2UO",
        "colab_type": "code",
        "colab": {}
      },
      "source": [
        ""
      ],
      "execution_count": 0,
      "outputs": []
    }
  ]
}